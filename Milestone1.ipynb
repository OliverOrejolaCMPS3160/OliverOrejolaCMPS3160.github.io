{
 "cells": [
  {
   "cell_type": "markdown",
   "id": "396ce817",
   "metadata": {},
   "source": [
    "# Milestone 1: Wikipedia trends\n",
    "\n",
    "Oliver Orejola\n",
    "\n",
    "The website in which the analysis is located can be found  [here](https://oliverorejolacmps3160.github.io.)."
   ]
  },
  {
   "cell_type": "markdown",
   "id": "298d771e",
   "metadata": {},
   "source": [
    "## Project Plan\n",
    "\n",
    "The goal of this project is to investigate time series trends in wikipedia page edits. In particular, I am interestined in edits made to the English Wikipedia data base. I plan on using the [Monthly wikimedia editor activity data set](https://meta.wikimedia.org/wiki/Research:Monthly_wikimedia_editor_activity_dataset). I would like to fit an autoregressive model as well as implement a simple recurrent neural network as an attempt to predict the number of edits. Since this data set includes temporal data tracking user revisions as well as dates of registration, this data set seems apt to investage time series trends.\n",
    "\n",
    "In addition, to studying the edit trends on wikipedia, it is highily likely bots are used to update content on wikipedia as well. With this in mind, it would be interesting if we can find them. In particular, we can see user names with the term `bot` present and examine the number of edits they make. Then, for any other user we can devise a simple hypothesis test to predict whether or not they are a bot.\n",
    "\n",
    "## Project Datasets\n",
    "\n",
    "The main data set I will be using is [Monthly wikimedia editor activity data set](https://meta.wikimedia.org/wiki/Research:Monthly_wikimedia_editor_activity_dataset). This data set includes the following information: \n",
    "* wiki -- The dbname of the wiki in question (\"enwiki\" == English Wikipedia, \"commonswiki\" == Commons)\n",
    "* month -- YYYYMM\n",
    "* user_id -- The user's identifier in the local wiki\n",
    "* user_name -- The user name in the local wiki (from the 'user' table)\n",
    "* user_registration -- The recorded registration date for the user in the 'user' table\n",
    "* archived -- The count of deleted revisions saved in this month by this user\n",
    "* revisions -- The count of all revisions saved in this month by this user (archived or not)\n",
    "* attached_method -- The method by which this user attached this account to their global account\n",
    "\n",
    "The last complete month in the dataset is June, 2015.\n",
    "\n",
    "For more details [click here](https://diff.wikimedia.org/2015/09/25/wikipedia-editor-numbers/)."
   ]
  },
  {
   "cell_type": "markdown",
   "id": "a85fe063",
   "metadata": {},
   "source": [
    "## Extraction, Transform, and Load"
   ]
  },
  {
   "cell_type": "code",
   "execution_count": 1,
   "id": "8a4d14b4",
   "metadata": {},
   "outputs": [],
   "source": [
    "# Import relevant libraries \n",
    "import pandas as pd\n",
    "import numpy as np\n",
    "import matplotlib.pyplot as plt "
   ]
  },
  {
   "cell_type": "markdown",
   "id": "078a789e",
   "metadata": {},
   "source": [
    "Load the `wiki_editor_months.201508.tsv` data set."
   ]
  },
  {
   "cell_type": "code",
   "execution_count": 2,
   "id": "9d951b8f",
   "metadata": {},
   "outputs": [
    {
     "name": "stderr",
     "output_type": "stream",
     "text": [
      "/var/folders/9d/yr4h51qx3ggdvydfff3h7h0m0000gn/T/ipykernel_47496/3978608599.py:1: DtypeWarning: Columns (4) have mixed types. Specify dtype option on import or set low_memory=False.\n",
      "  df = pd.read_table(\"wiki_editor_months.201508.tsv\")\n"
     ]
    },
    {
     "data": {
      "text/html": [
       "<div>\n",
       "<style scoped>\n",
       "    .dataframe tbody tr th:only-of-type {\n",
       "        vertical-align: middle;\n",
       "    }\n",
       "\n",
       "    .dataframe tbody tr th {\n",
       "        vertical-align: top;\n",
       "    }\n",
       "\n",
       "    .dataframe thead th {\n",
       "        text-align: right;\n",
       "    }\n",
       "</style>\n",
       "<table border=\"1\" class=\"dataframe\">\n",
       "  <thead>\n",
       "    <tr style=\"text-align: right;\">\n",
       "      <th></th>\n",
       "      <th>wiki</th>\n",
       "      <th>month</th>\n",
       "      <th>user_id</th>\n",
       "      <th>user_name</th>\n",
       "      <th>user_registration</th>\n",
       "      <th>archived</th>\n",
       "      <th>revisions</th>\n",
       "      <th>attached_method</th>\n",
       "    </tr>\n",
       "  </thead>\n",
       "  <tbody>\n",
       "    <tr>\n",
       "      <th>0</th>\n",
       "      <td>aawiki</td>\n",
       "      <td>200404</td>\n",
       "      <td>3</td>\n",
       "      <td>Angela</td>\n",
       "      <td>NaN</td>\n",
       "      <td>2.0</td>\n",
       "      <td>2.0</td>\n",
       "      <td>password</td>\n",
       "    </tr>\n",
       "    <tr>\n",
       "      <th>1</th>\n",
       "      <td>aawiki</td>\n",
       "      <td>200406</td>\n",
       "      <td>2</td>\n",
       "      <td>Tim Starling</td>\n",
       "      <td>NaN</td>\n",
       "      <td>10.0</td>\n",
       "      <td>10.0</td>\n",
       "      <td>password</td>\n",
       "    </tr>\n",
       "    <tr>\n",
       "      <th>2</th>\n",
       "      <td>aawiki</td>\n",
       "      <td>200408</td>\n",
       "      <td>2</td>\n",
       "      <td>Tim Starling</td>\n",
       "      <td>NaN</td>\n",
       "      <td>2.0</td>\n",
       "      <td>2.0</td>\n",
       "      <td>password</td>\n",
       "    </tr>\n",
       "    <tr>\n",
       "      <th>3</th>\n",
       "      <td>aawiki</td>\n",
       "      <td>200409</td>\n",
       "      <td>14</td>\n",
       "      <td>Davidcannon</td>\n",
       "      <td>NaN</td>\n",
       "      <td>2.0</td>\n",
       "      <td>2.0</td>\n",
       "      <td>primary</td>\n",
       "    </tr>\n",
       "    <tr>\n",
       "      <th>4</th>\n",
       "      <td>aawiki</td>\n",
       "      <td>200412</td>\n",
       "      <td>2</td>\n",
       "      <td>Tim Starling</td>\n",
       "      <td>NaN</td>\n",
       "      <td>12.0</td>\n",
       "      <td>12.0</td>\n",
       "      <td>password</td>\n",
       "    </tr>\n",
       "  </tbody>\n",
       "</table>\n",
       "</div>"
      ],
      "text/plain": [
       "     wiki   month  user_id     user_name user_registration  archived  \\\n",
       "0  aawiki  200404        3        Angela               NaN       2.0   \n",
       "1  aawiki  200406        2  Tim Starling               NaN      10.0   \n",
       "2  aawiki  200408        2  Tim Starling               NaN       2.0   \n",
       "3  aawiki  200409       14   Davidcannon               NaN       2.0   \n",
       "4  aawiki  200412        2  Tim Starling               NaN      12.0   \n",
       "\n",
       "   revisions attached_method  \n",
       "0        2.0        password  \n",
       "1       10.0        password  \n",
       "2        2.0        password  \n",
       "3        2.0         primary  \n",
       "4       12.0        password  "
      ]
     },
     "execution_count": 2,
     "metadata": {},
     "output_type": "execute_result"
    }
   ],
   "source": [
    "df = pd.read_table(\"wiki_editor_months.201508.tsv\")\n",
    "df.head()"
   ]
  },
  {
   "cell_type": "markdown",
   "id": "e2df03b5",
   "metadata": {},
   "source": [
    "Construct new dataframe containing all entries related to the english wikipedia. So we select all rows with `wiki == enwiki` and remove the `wiki` column as it is no longer relevant."
   ]
  },
  {
   "cell_type": "code",
   "execution_count": 3,
   "id": "3f8ea45b",
   "metadata": {},
   "outputs": [
    {
     "data": {
      "text/html": [
       "<div>\n",
       "<style scoped>\n",
       "    .dataframe tbody tr th:only-of-type {\n",
       "        vertical-align: middle;\n",
       "    }\n",
       "\n",
       "    .dataframe tbody tr th {\n",
       "        vertical-align: top;\n",
       "    }\n",
       "\n",
       "    .dataframe thead th {\n",
       "        text-align: right;\n",
       "    }\n",
       "</style>\n",
       "<table border=\"1\" class=\"dataframe\">\n",
       "  <thead>\n",
       "    <tr style=\"text-align: right;\">\n",
       "      <th></th>\n",
       "      <th>month</th>\n",
       "      <th>user_id</th>\n",
       "      <th>user_name</th>\n",
       "      <th>user_registration</th>\n",
       "      <th>archived</th>\n",
       "      <th>revisions</th>\n",
       "      <th>attached_method</th>\n",
       "    </tr>\n",
       "  </thead>\n",
       "  <tbody>\n",
       "    <tr>\n",
       "      <th>0</th>\n",
       "      <td>200101</td>\n",
       "      <td>9161929</td>\n",
       "      <td>KlausSeistrup</td>\n",
       "      <td>20090308075444.0</td>\n",
       "      <td>0.0</td>\n",
       "      <td>1.0</td>\n",
       "      <td>new</td>\n",
       "    </tr>\n",
       "    <tr>\n",
       "      <th>1</th>\n",
       "      <td>200101</td>\n",
       "      <td>9167505</td>\n",
       "      <td>ALittleLuck</td>\n",
       "      <td>20090309011538.0</td>\n",
       "      <td>0.0</td>\n",
       "      <td>1.0</td>\n",
       "      <td>new</td>\n",
       "    </tr>\n",
       "    <tr>\n",
       "      <th>2</th>\n",
       "      <td>200101</td>\n",
       "      <td>10164500</td>\n",
       "      <td>IvoryRing</td>\n",
       "      <td>20090722031343.0</td>\n",
       "      <td>0.0</td>\n",
       "      <td>1.0</td>\n",
       "      <td>new</td>\n",
       "    </tr>\n",
       "    <tr>\n",
       "      <th>3</th>\n",
       "      <td>200101</td>\n",
       "      <td>10164531</td>\n",
       "      <td>StasK</td>\n",
       "      <td>20090722031938.0</td>\n",
       "      <td>1.0</td>\n",
       "      <td>2.0</td>\n",
       "      <td>primary</td>\n",
       "    </tr>\n",
       "    <tr>\n",
       "      <th>4</th>\n",
       "      <td>200101</td>\n",
       "      <td>10164597</td>\n",
       "      <td>ChessyPig</td>\n",
       "      <td>20090722033150.0</td>\n",
       "      <td>0.0</td>\n",
       "      <td>1.0</td>\n",
       "      <td>new</td>\n",
       "    </tr>\n",
       "  </tbody>\n",
       "</table>\n",
       "</div>"
      ],
      "text/plain": [
       "    month   user_id      user_name user_registration  archived  revisions  \\\n",
       "0  200101   9161929  KlausSeistrup  20090308075444.0       0.0        1.0   \n",
       "1  200101   9167505    ALittleLuck  20090309011538.0       0.0        1.0   \n",
       "2  200101  10164500      IvoryRing  20090722031343.0       0.0        1.0   \n",
       "3  200101  10164531          StasK  20090722031938.0       1.0        2.0   \n",
       "4  200101  10164597      ChessyPig  20090722033150.0       0.0        1.0   \n",
       "\n",
       "  attached_method  \n",
       "0             new  \n",
       "1             new  \n",
       "2             new  \n",
       "3         primary  \n",
       "4             new  "
      ]
     },
     "execution_count": 3,
     "metadata": {},
     "output_type": "execute_result"
    }
   ],
   "source": [
    "df_english = df[df['wiki']=='enwiki'].iloc[:,1:].reset_index(drop = True)\n",
    "df_english.head()"
   ]
  },
  {
   "cell_type": "markdown",
   "id": "ca5dfd46",
   "metadata": {},
   "source": [
    "Lets check the data types\n"
   ]
  },
  {
   "cell_type": "code",
   "execution_count": 4,
   "id": "02f8f2cf",
   "metadata": {},
   "outputs": [
    {
     "data": {
      "text/plain": [
       "month                  int64\n",
       "user_id                int64\n",
       "user_name             object\n",
       "user_registration     object\n",
       "archived             float64\n",
       "revisions            float64\n",
       "attached_method       object\n",
       "dtype: object"
      ]
     },
     "execution_count": 4,
     "metadata": {},
     "output_type": "execute_result"
    }
   ],
   "source": [
    "df_english.dtypes"
   ]
  },
  {
   "cell_type": "markdown",
   "id": "a25a7567",
   "metadata": {},
   "source": [
    "The `month` and `user_registration`columns have incorrect data type. In particular, we have time series data, so we would like these columns to have `datetime` data types. To convert them to their appropriate type, we make use of the `pd.to_datetime()` function. Give that the `month` is encoded as an `int` dtype formated YYYYMM and`user_registration` is encoded as `str` dtype fromatted YYYYMMDDHHMMSS.0. We first define auxilary functions to extract the relevant month and year information as a `str`. Then, we concatonate the month and year and convert to `datetime64` dtype."
   ]
  },
  {
   "cell_type": "code",
   "execution_count": 5,
   "id": "c8c5c805",
   "metadata": {},
   "outputs": [],
   "source": [
    "#define auxilary get month and year from date encoded as int dtype.\n",
    "def get_month(entry):\n",
    "    return str(entry)[4:6]\n",
    "def get_year(entry):\n",
    "    return str(entry)[:4]\n",
    "\n",
    "df_english['month']= df_english['month'].map(get_month)+'-'+df_english['month'].map(get_year) \n",
    "df_english['month'] = pd.to_datetime(df_english['month'], format='%m-%Y')\n",
    "\n",
    "df_english['user_registration']=df_english['user_registration'].map(get_month)+'-'+df_english['user_registration'].map(get_year)\n",
    "df_english['user_registration']=pd.to_datetime(df_english['user_registration'], format='%m-%Y',errors='coerce')"
   ]
  },
  {
   "cell_type": "markdown",
   "id": "784fd59e",
   "metadata": {},
   "source": [
    "Since the `revisions` column accounts for both archived and non-archived. We add a new column for non-archived revisions simply by taking the difference between `revisions` and `archived`."
   ]
  },
  {
   "cell_type": "code",
   "execution_count": 6,
   "id": "8b22b6d0",
   "metadata": {},
   "outputs": [],
   "source": [
    "df_english['non_archived'] = df_english['revisions']-df_english['archived']"
   ]
  },
  {
   "cell_type": "markdown",
   "id": "2014a8d0",
   "metadata": {},
   "source": [
    "Now lets add a column that stores `True` or `False` depending on if the `user_name` contains the substring `bot`."
   ]
  },
  {
   "cell_type": "code",
   "execution_count": 7,
   "id": "72c738d6",
   "metadata": {},
   "outputs": [],
   "source": [
    "df_english['user_name_has_bot'] = df_english['user_name'].apply(lambda x: 'bot' in str(x))"
   ]
  },
  {
   "cell_type": "markdown",
   "id": "b6227aa8",
   "metadata": {},
   "source": [
    "Let's check on our data again."
   ]
  },
  {
   "cell_type": "code",
   "execution_count": 8,
   "id": "4e33adba",
   "metadata": {},
   "outputs": [
    {
     "data": {
      "text/html": [
       "<div>\n",
       "<style scoped>\n",
       "    .dataframe tbody tr th:only-of-type {\n",
       "        vertical-align: middle;\n",
       "    }\n",
       "\n",
       "    .dataframe tbody tr th {\n",
       "        vertical-align: top;\n",
       "    }\n",
       "\n",
       "    .dataframe thead th {\n",
       "        text-align: right;\n",
       "    }\n",
       "</style>\n",
       "<table border=\"1\" class=\"dataframe\">\n",
       "  <thead>\n",
       "    <tr style=\"text-align: right;\">\n",
       "      <th></th>\n",
       "      <th>month</th>\n",
       "      <th>user_id</th>\n",
       "      <th>user_name</th>\n",
       "      <th>user_name_has_bot</th>\n",
       "      <th>user_registration</th>\n",
       "      <th>archived</th>\n",
       "      <th>non_archived</th>\n",
       "      <th>revisions</th>\n",
       "      <th>attached_method</th>\n",
       "    </tr>\n",
       "  </thead>\n",
       "  <tbody>\n",
       "    <tr>\n",
       "      <th>0</th>\n",
       "      <td>2001-01-01</td>\n",
       "      <td>9161929</td>\n",
       "      <td>KlausSeistrup</td>\n",
       "      <td>False</td>\n",
       "      <td>2009-03-01</td>\n",
       "      <td>0.0</td>\n",
       "      <td>1.0</td>\n",
       "      <td>1.0</td>\n",
       "      <td>new</td>\n",
       "    </tr>\n",
       "    <tr>\n",
       "      <th>1</th>\n",
       "      <td>2001-01-01</td>\n",
       "      <td>9167505</td>\n",
       "      <td>ALittleLuck</td>\n",
       "      <td>False</td>\n",
       "      <td>2009-03-01</td>\n",
       "      <td>0.0</td>\n",
       "      <td>1.0</td>\n",
       "      <td>1.0</td>\n",
       "      <td>new</td>\n",
       "    </tr>\n",
       "    <tr>\n",
       "      <th>2</th>\n",
       "      <td>2001-01-01</td>\n",
       "      <td>10164500</td>\n",
       "      <td>IvoryRing</td>\n",
       "      <td>False</td>\n",
       "      <td>2009-07-01</td>\n",
       "      <td>0.0</td>\n",
       "      <td>1.0</td>\n",
       "      <td>1.0</td>\n",
       "      <td>new</td>\n",
       "    </tr>\n",
       "    <tr>\n",
       "      <th>3</th>\n",
       "      <td>2001-01-01</td>\n",
       "      <td>10164531</td>\n",
       "      <td>StasK</td>\n",
       "      <td>False</td>\n",
       "      <td>2009-07-01</td>\n",
       "      <td>1.0</td>\n",
       "      <td>1.0</td>\n",
       "      <td>2.0</td>\n",
       "      <td>primary</td>\n",
       "    </tr>\n",
       "    <tr>\n",
       "      <th>4</th>\n",
       "      <td>2001-01-01</td>\n",
       "      <td>10164597</td>\n",
       "      <td>ChessyPig</td>\n",
       "      <td>False</td>\n",
       "      <td>2009-07-01</td>\n",
       "      <td>0.0</td>\n",
       "      <td>1.0</td>\n",
       "      <td>1.0</td>\n",
       "      <td>new</td>\n",
       "    </tr>\n",
       "  </tbody>\n",
       "</table>\n",
       "</div>"
      ],
      "text/plain": [
       "       month   user_id      user_name  user_name_has_bot user_registration  \\\n",
       "0 2001-01-01   9161929  KlausSeistrup              False        2009-03-01   \n",
       "1 2001-01-01   9167505    ALittleLuck              False        2009-03-01   \n",
       "2 2001-01-01  10164500      IvoryRing              False        2009-07-01   \n",
       "3 2001-01-01  10164531          StasK              False        2009-07-01   \n",
       "4 2001-01-01  10164597      ChessyPig              False        2009-07-01   \n",
       "\n",
       "   archived  non_archived  revisions attached_method  \n",
       "0       0.0           1.0        1.0             new  \n",
       "1       0.0           1.0        1.0             new  \n",
       "2       0.0           1.0        1.0             new  \n",
       "3       1.0           1.0        2.0         primary  \n",
       "4       0.0           1.0        1.0             new  "
      ]
     },
     "execution_count": 8,
     "metadata": {},
     "output_type": "execute_result"
    }
   ],
   "source": [
    "df_english = df_english[['month', 'user_id', 'user_name','user_name_has_bot', 'user_registration', 'archived',\n",
    "       'non_archived', 'revisions', 'attached_method']] #reorder columns\n",
    "df_english.head(5)"
   ]
  },
  {
   "cell_type": "code",
   "execution_count": 9,
   "id": "09bdbb33",
   "metadata": {},
   "outputs": [
    {
     "data": {
      "text/plain": [
       "month                datetime64[ns]\n",
       "user_id                       int64\n",
       "user_name                    object\n",
       "user_name_has_bot              bool\n",
       "user_registration    datetime64[ns]\n",
       "archived                    float64\n",
       "non_archived                float64\n",
       "revisions                   float64\n",
       "attached_method              object\n",
       "dtype: object"
      ]
     },
     "execution_count": 9,
     "metadata": {},
     "output_type": "execute_result"
    }
   ],
   "source": [
    "df_english.dtypes # check again"
   ]
  },
  {
   "cell_type": "markdown",
   "id": "76cf72bd",
   "metadata": {},
   "source": [
    "Each column is now an appropriate dtype."
   ]
  },
  {
   "cell_type": "markdown",
   "id": "cbb6aefc",
   "metadata": {},
   "source": [
    "## Exploratory Data Analysis\n",
    "\n",
    "### User behavior\n",
    "\n",
    "First we consider some user summary statistics concerning users. We address the following:\n",
    "* Number of unique user ids\n",
    "* Aggeragte statistics concerning the number of months a user is active\n",
    "* Aggeragte statistics concerning the number of revisions per month\n"
   ]
  },
  {
   "cell_type": "code",
   "execution_count": 10,
   "id": "6a29ae03",
   "metadata": {},
   "outputs": [
    {
     "data": {
      "text/plain": [
       "count    8.086216e+06\n",
       "mean     2.240593e+00\n",
       "std      5.786763e+00\n",
       "min      1.000000e+00\n",
       "25%      1.000000e+00\n",
       "50%      1.000000e+00\n",
       "75%      1.000000e+00\n",
       "max      1.690000e+02\n",
       "Name: user_id, dtype: float64"
      ]
     },
     "execution_count": 10,
     "metadata": {},
     "output_type": "execute_result"
    }
   ],
   "source": [
    "df_english['user_id'].value_counts().describe()"
   ]
  },
  {
   "cell_type": "markdown",
   "id": "cd6d7c5e",
   "metadata": {},
   "source": [
    "There are a total of 8086216 unique users from 2001-2015. In addition we see that the median number of months a user makes edits is 1 month, and the average number of months a user contributes to is 2.24. This is ofcourse right skewed, as there are users who have made edits for more than 14 years. "
   ]
  },
  {
   "cell_type": "code",
   "execution_count": 11,
   "id": "11085459",
   "metadata": {},
   "outputs": [
    {
     "data": {
      "text/html": [
       "<div>\n",
       "<style scoped>\n",
       "    .dataframe tbody tr th:only-of-type {\n",
       "        vertical-align: middle;\n",
       "    }\n",
       "\n",
       "    .dataframe tbody tr th {\n",
       "        vertical-align: top;\n",
       "    }\n",
       "\n",
       "    .dataframe thead th {\n",
       "        text-align: right;\n",
       "    }\n",
       "</style>\n",
       "<table border=\"1\" class=\"dataframe\">\n",
       "  <thead>\n",
       "    <tr style=\"text-align: right;\">\n",
       "      <th></th>\n",
       "      <th>archived</th>\n",
       "      <th>revisions</th>\n",
       "      <th>non_archived</th>\n",
       "    </tr>\n",
       "  </thead>\n",
       "  <tbody>\n",
       "    <tr>\n",
       "      <th>count</th>\n",
       "      <td>1.811791e+07</td>\n",
       "      <td>1.811787e+07</td>\n",
       "      <td>1.811787e+07</td>\n",
       "    </tr>\n",
       "    <tr>\n",
       "      <th>mean</th>\n",
       "      <td>2.189121e+00</td>\n",
       "      <td>2.872045e+01</td>\n",
       "      <td>2.653134e+01</td>\n",
       "    </tr>\n",
       "    <tr>\n",
       "      <th>std</th>\n",
       "      <td>9.472072e+01</td>\n",
       "      <td>7.218491e+02</td>\n",
       "      <td>6.936092e+02</td>\n",
       "    </tr>\n",
       "    <tr>\n",
       "      <th>min</th>\n",
       "      <td>0.000000e+00</td>\n",
       "      <td>1.000000e+00</td>\n",
       "      <td>0.000000e+00</td>\n",
       "    </tr>\n",
       "    <tr>\n",
       "      <th>25%</th>\n",
       "      <td>0.000000e+00</td>\n",
       "      <td>1.000000e+00</td>\n",
       "      <td>1.000000e+00</td>\n",
       "    </tr>\n",
       "    <tr>\n",
       "      <th>50%</th>\n",
       "      <td>0.000000e+00</td>\n",
       "      <td>2.000000e+00</td>\n",
       "      <td>2.000000e+00</td>\n",
       "    </tr>\n",
       "    <tr>\n",
       "      <th>75%</th>\n",
       "      <td>0.000000e+00</td>\n",
       "      <td>7.000000e+00</td>\n",
       "      <td>6.000000e+00</td>\n",
       "    </tr>\n",
       "    <tr>\n",
       "      <th>max</th>\n",
       "      <td>2.388710e+05</td>\n",
       "      <td>1.712735e+06</td>\n",
       "      <td>1.706767e+06</td>\n",
       "    </tr>\n",
       "  </tbody>\n",
       "</table>\n",
       "</div>"
      ],
      "text/plain": [
       "           archived     revisions  non_archived\n",
       "count  1.811791e+07  1.811787e+07  1.811787e+07\n",
       "mean   2.189121e+00  2.872045e+01  2.653134e+01\n",
       "std    9.472072e+01  7.218491e+02  6.936092e+02\n",
       "min    0.000000e+00  1.000000e+00  0.000000e+00\n",
       "25%    0.000000e+00  1.000000e+00  1.000000e+00\n",
       "50%    0.000000e+00  2.000000e+00  2.000000e+00\n",
       "75%    0.000000e+00  7.000000e+00  6.000000e+00\n",
       "max    2.388710e+05  1.712735e+06  1.706767e+06"
      ]
     },
     "execution_count": 11,
     "metadata": {},
     "output_type": "execute_result"
    }
   ],
   "source": [
    "df_english[['archived','revisions','non_archived']].describe()"
   ]
  },
  {
   "cell_type": "code",
   "execution_count": 12,
   "id": "43d12c7e",
   "metadata": {},
   "outputs": [
    {
     "data": {
      "image/png": "[encoded data removed]",
      "text/plain": [
       "<Figure size 432x288 with 1 Axes>"
      ]
     },
     "metadata": {
      "needs_background": "light"
     },
     "output_type": "display_data"
    }
   ],
   "source": [
    "data_user_revisions_per_month = df_english['revisions'].value_counts()\n",
    "\n",
    "fig, ax = plt.subplots()\n",
    "\n",
    "ax.bar(data_user_revisions_per_month.index, data_user_revisions_per_month.values)\n",
    "ax.set(xlim=(0, 70))\n",
    "plt.xlabel('Number of revisions per month')\n",
    "plt.show()\n"
   ]
  },
  {
   "cell_type": "markdown",
   "id": "e8befb18",
   "metadata": {},
   "source": [
    "We see that median number of revisions by a user per month is 2. However, the average number of revisions by a user per month is 28.7. This data is incredibly right skewed. Indeed, we see from this histogram that the distribution has a heavy right tail. In particular we have an extreme outlier with a the max number of revsions in a given month by an individual user being nearly 2 million (exactly 1,712,735 revisions). Let's investigate this outlier further by looking at who the culprit is."
   ]
  },
  {
   "cell_type": "code",
   "execution_count": 13,
   "id": "73910926",
   "metadata": {},
   "outputs": [
    {
     "data": {
      "text/plain": [
       "month                2013-03-01 00:00:00\n",
       "user_id                          6569922\n",
       "user_name                         Addbot\n",
       "user_name_has_bot                   True\n",
       "user_registration    2008-03-01 00:00:00\n",
       "archived                          5968.0\n",
       "non_archived                   1706767.0\n",
       "revisions                      1712735.0\n",
       "attached_method                  primary\n",
       "Name: 14288828, dtype: object"
      ]
     },
     "execution_count": 13,
     "metadata": {},
     "output_type": "execute_result"
    }
   ],
   "source": [
    "df_english.loc[df_english['revisions'].idxmax()]"
   ]
  },
  {
   "cell_type": "markdown",
   "id": "e0d77f91",
   "metadata": {},
   "source": [
    "We see that `user_id` 6569922 has `user_name` `Addbot`. It's a bot! It makes sense that some bot could make that many revisions in a given month. A quick calculation shows thats about 39 revisions per minute for an entire month."
   ]
  },
  {
   "cell_type": "markdown",
   "id": "faea7e6c",
   "metadata": {},
   "source": [
    "Now we consider the trend of user registrations. Namely, we plot the number of new user registrations per month."
   ]
  },
  {
   "cell_type": "code",
   "execution_count": 14,
   "id": "b606e348",
   "metadata": {},
   "outputs": [
    {
     "data": {
      "image/png": "[encoded data removed]",
      "text/plain": [
       "<Figure size 432x288 with 1 Axes>"
      ]
     },
     "metadata": {
      "needs_background": "light"
     },
     "output_type": "display_data"
    }
   ],
   "source": [
    "data_user_registration =  df_english['user_registration'].value_counts().sort_index()\n",
    "\n",
    "fig, ax = plt.subplots()\n",
    "\n",
    "ax.plot(data_user_registration.index, data_user_registration.values, linewidth=2.0)\n",
    "plt.xlabel('Date')\n",
    "plt.title('New User Registrations')\n",
    "plt.show()"
   ]
  },
  {
   "cell_type": "markdown",
   "id": "25aca07d",
   "metadata": {},
   "source": [
    "Now we plot the cumulative new users per month."
   ]
  },
  {
   "cell_type": "code",
   "execution_count": 15,
   "id": "6e1e8994",
   "metadata": {},
   "outputs": [
    {
     "data": {
      "image/png": "[encoded data removed]",
      "text/plain": [
       "<Figure size 432x288 with 1 Axes>"
      ]
     },
     "metadata": {
      "needs_background": "light"
     },
     "output_type": "display_data"
    }
   ],
   "source": [
    "data_user_registration_cumulative =df_english['user_registration'].value_counts().sort_index().cumsum()\n",
    "\n",
    "fig, ax = plt.subplots()\n",
    "\n",
    "ax.plot(data_user_registration_cumulative.index, data_user_registration_cumulative.values, linewidth=2.0)\n",
    "plt.xlabel('Date')\n",
    "plt.title('Cumulative New User Registrations')\n",
    "plt.show()"
   ]
  },
  {
   "cell_type": "markdown",
   "id": "597e2a72",
   "metadata": {},
   "source": [
    "We see that in 2006 there is a significant spike in the total number of new registered users. This is prepresentative in both plots above. Note that from 2006-2007 the number of new register users appear to plateu with a decline afterwards. It interesting to explore why there is this behavior in the trend. Some natrual questions:\n",
    "* Did wikipedia some how become more accessable? I.e. Was there some software update at that time? Did people have easier access to wikipedia with smartphones etc?\n",
    "* Did wikipedia become more popular? I.e. was there some reference to in news?\n",
    "* A combination of both?"
   ]
  },
  {
   "cell_type": "markdown",
   "id": "f54baeab",
   "metadata": {},
   "source": [
    "### Edit Trend"
   ]
  },
  {
   "cell_type": "markdown",
   "id": "28a6bc89",
   "metadata": {},
   "source": [
    "We now plot the trend total number of edits per month. Shown below we plot `non_archived`, `archived`, and `revisions` with respect to the month."
   ]
  },
  {
   "cell_type": "code",
   "execution_count": 16,
   "id": "6f83cdfe",
   "metadata": {},
   "outputs": [
    {
     "data": {
      "image/png": "[encoded data removed]",
      "text/plain": [
       "<Figure size 432x288 with 1 Axes>"
      ]
     },
     "metadata": {
      "needs_background": "light"
     },
     "output_type": "display_data"
    }
   ],
   "source": [
    "data_non_archived = df_english.groupby('month')['non_archived'].sum()\n",
    "data_archived = df_english.groupby('month')['archived'].sum()\n",
    "data_revisions = df_english.groupby('month')['revisions'].sum()\n",
    "\n",
    "fig, ax = plt.subplots()\n",
    "\n",
    "ax.plot(data_revisions.index, data_revisions.values, linewidth=2.0)\n",
    "ax.plot(data_non_archived.index, data_non_archived.values)\n",
    "ax.plot(data_archived.index, data_archived.values, linewidth=2.0)\n",
    "\n",
    "ax.legend(['total revisions','non-archived', 'archived'])\n",
    "plt.xlabel('Date')\n",
    "plt.ylabel('Revisions')\n",
    "\n",
    "plt.show()"
   ]
  },
  {
   "cell_type": "markdown",
   "id": "66adc76f",
   "metadata": {},
   "source": [
    "Interestingly enough, but to no suprise, there is a sharp increase near 2006. This is expected when considering that there was a large increase of new user registrations near the same time.\n",
    "\n",
    "We suspect that bots are more active than organic users. So we now consider a smiliar plot, however we differenatie between those with `bot` in their username vs those without."
   ]
  },
  {
   "cell_type": "code",
   "execution_count": 17,
   "id": "9927a1ae",
   "metadata": {},
   "outputs": [
    {
     "data": {
      "image/png": "[encoded data removed]",
      "text/plain": [
       "<Figure size 432x288 with 1 Axes>"
      ]
     },
     "metadata": {
      "needs_background": "light"
     },
     "output_type": "display_data"
    }
   ],
   "source": [
    "\n",
    "data_revisions = df_english[ df_english['user_name_has_bot']==False].groupby('month')['revisions'].sum()\n",
    "data_revisions_bot = df_english[ df_english['user_name_has_bot']==True].groupby('month')['revisions'].sum()\n",
    "\n",
    "fig, ax = plt.subplots()\n",
    "\n",
    "ax.plot(data_revisions_bot.index, data_revisions_bot.values, linewidth=2.0)\n",
    "ax.plot(data_revisions.index, data_revisions.values, linewidth=2.0)\n",
    "        \n",
    "ax.legend(['bot','nobot'])\n",
    "plt.xlabel('Date')\n",
    "plt.ylabel('Revisions')\n",
    "\n",
    "plt.show()\n",
    "    "
   ]
  },
  {
   "cell_type": "markdown",
   "id": "abbd82b9",
   "metadata": {},
   "source": [
    "This seems to contradict our expectation that bots are more prolific than organic users. That is, the plot above suggests that the total number of revisions made to wikipedia are mad by organic users rather than bots."
   ]
  }
 ],
 "metadata": {
  "kernelspec": {
   "display_name": "Python 3 (ipykernel)",
   "language": "python",
   "name": "python3"
  },
  "language_info": {
   "codemirror_mode": {
    "name": "ipython",
    "version": 3
   },
   "file_extension": ".py",
   "mimetype": "text/x-python",
   "name": "python",
   "nbconvert_exporter": "python",
   "pygments_lexer": "ipython3",
   "version": "3.9.7"
  }
 },
 "nbformat": 4,
 "nbformat_minor": 5
}
